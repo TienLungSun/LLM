{
  "nbformat": 4,
  "nbformat_minor": 0,
  "metadata": {
    "colab": {
      "provenance": [],
      "gpuType": "A100",
      "authorship_tag": "ABX9TyNSqgwvUBiW4KJiujqKc3TV",
      "include_colab_link": true
    },
    "kernelspec": {
      "name": "python3",
      "display_name": "Python 3"
    },
    "language_info": {
      "name": "python"
    },
    "accelerator": "GPU"
  },
  "cells": [
    {
      "cell_type": "markdown",
      "metadata": {
        "id": "view-in-github",
        "colab_type": "text"
      },
      "source": [
        "<a href=\"https://colab.research.google.com/github/TienLungSun/LLM/blob/main/Video%20process%20examples.ipynb\" target=\"_parent\"><img src=\"https://colab.research.google.com/assets/colab-badge.svg\" alt=\"Open In Colab\"/></a>"
      ]
    },
    {
      "cell_type": "markdown",
      "source": [
        "Reference: python code example at https://huggingface.co/allenai/Molmo-7B-D-0924"
      ],
      "metadata": {
        "id": "Bkvoced5-805"
      }
    },
    {
      "cell_type": "code",
      "source": [
        "from PIL import Image"
      ],
      "metadata": {
        "id": "TwPBKQCzy9Cq"
      },
      "execution_count": 1,
      "outputs": []
    },
    {
      "cell_type": "code",
      "source": [
        "def form_large_img(frameLst):\n",
        "  # 載入圖像\n",
        "  images = [Image.open(img) for img in frameLst]\n",
        "\n",
        "  # 假設所有圖片大小相同，取得圖片的寬高\n",
        "  width, height = images[0].size\n",
        "\n",
        "  # 設定拼接後的圖片大小 (這裡以3x3排列為例)\n",
        "  new_width = width * 3\n",
        "  new_height = height * 3\n",
        "\n",
        "  # 建立一個空的畫布\n",
        "  new_image = Image.new('RGB', (new_width, new_height))\n",
        "\n",
        "  # 將每張圖片貼到大圖上\n",
        "  for i, image in enumerate(images):\n",
        "      # 計算要貼上的位置 (行列排列)\n",
        "      x = (i % 3) * width\n",
        "      y = (i // 3) * height\n",
        "      new_image.paste(image, (x, y))\n",
        "\n",
        "  # 儲存拼接後的圖像\n",
        "  return new_image"
      ],
      "metadata": {
        "id": "0jmrXIzhyryY"
      },
      "execution_count": 2,
      "outputs": []
    },
    {
      "cell_type": "code",
      "source": [
        "import cv2\n",
        "from google.colab.patches import cv2_imshow\n",
        "from IPython.display import clear_output\n",
        "import time\n",
        "\n",
        "# 設定要讀取的視頻文件路徑\n",
        "video_path = \"entrance_mo.mp4\"\n",
        "\n",
        "# 使用 OpenCV 讀取視頻\n",
        "cap = cv2.VideoCapture(video_path)\n",
        "\n",
        "# 檢查是否成功打開視頻文件\n",
        "if not cap.isOpened():\n",
        "    print(\"無法開啟視頻文件\")\n",
        "else:\n",
        "    frameNo =1\n",
        "    frameLst = []\n",
        "    while cap.isOpened():\n",
        "        # 逐幀讀取視頻\n",
        "        ret, frame = cap.read()\n",
        "        frameNo +=1\n",
        "        # 如果成功讀取到幀\n",
        "        if ret:\n",
        "            # 清除先前顯示的幀\n",
        "            clear_output(wait=True)\n",
        "\n",
        "            # 縮小顯示大小，比如設置為原來的 25%\n",
        "            resized_frame = cv2.resize(frame, (0, 0), fx=0.25, fy=0.25)\n",
        "\n",
        "            if(len(frameLst)<9):\n",
        "              frameLst.append(resized_frame)\n",
        "            else: #we already have 9 frmaes\n",
        "              frameLst.pop(0)\n",
        "              frameLst.append(resized_frame)\n",
        "              new_img = form_large_img(frameLst)\n",
        "\n",
        "              # 顯示當前幀\n",
        "              resized_new_img = cv2.resize(new_img, (0, 0), fx=0.25, fy=0.25)\n",
        "              cv2_imshow(resized_new_img)\n",
        "              print(\"frame No:\", frameNo)\n",
        "\n",
        "              # 控制播放速度 (例如每秒25幀)\n",
        "              time.sleep(0.1)  # 0.04 秒大約等於 25 fps\n",
        "        else:\n",
        "            # 如果無法讀取到幀，則結束循環\n",
        "            break\n",
        "\n",
        "# 釋放視頻對象\n",
        "cap.release()\n",
        "\n",
        "# 關閉所有窗口\n",
        "cv2.destroyAllWindows()\n"
      ],
      "metadata": {
        "colab": {
          "base_uri": "https://localhost:8080/"
        },
        "id": "NqRV9LOpPAQP",
        "outputId": "ce095e4c-836d-43a2-9654-0da8f4f30163"
      },
      "execution_count": 5,
      "outputs": [
        {
          "output_type": "stream",
          "name": "stdout",
          "text": [
            "無法開啟視頻文件\n"
          ]
        }
      ]
    },
    {
      "cell_type": "code",
      "source": [],
      "metadata": {
        "id": "Q-ivu9Q8SZA_"
      },
      "execution_count": null,
      "outputs": []
    }
  ]
}